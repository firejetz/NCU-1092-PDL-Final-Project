{
 "cells": [
  {
   "cell_type": "code",
   "execution_count": 1,
   "metadata": {},
   "outputs": [],
   "source": [
    "import numpy as np\n",
    "import csv\n",
    "import cv2"
   ]
  },
  {
   "cell_type": "code",
   "execution_count": 2,
   "metadata": {},
   "outputs": [],
   "source": [
    "ID_train = []\n",
    "circle_train = []\n",
    "square_train = []\n",
    "triangle_train = []\n",
    "\n",
    "with open('train_data01.csv', newline='', encoding=\"utf-8\") as csvfile:\n",
    "\n",
    "    # 讀取 CSV 檔案內容\n",
    "    rows = csv.reader(csvfile)\n",
    "    # 跳過Heading\n",
    "    csv_heading = next(rows)\n",
    "    \n",
    "    for line in rows:\n",
    "        ID_train.append(int(line[0]))\n",
    "        circle_train.append(int(line[1]))\n",
    "        square_train.append(int(line[2]))\n",
    "        triangle_train.append(int(line[3]))\n",
    "        \n",
    "ID_train = np.array(ID_train, dtype = 'int32')  \n",
    "circle_train = np.array(circle_train, dtype = 'int32')\n",
    "square_train = np.array(square_train, dtype = 'int32')\n",
    "triangle_train = np.array(triangle_train, dtype = 'int32')"
   ]
  },
  {
   "cell_type": "code",
   "execution_count": 3,
   "metadata": {},
   "outputs": [],
   "source": [
    "IMAGE_SIZE = (100,100)\n",
    "\n",
    "def load_train_data():\n",
    "    images = []\n",
    "    for i in range(1,50001):\n",
    "        # Open and resize the img\n",
    "        image = cv2.imread('C:/Users/User/Desktop/train_data01/'+str(i)+'.jpg')\n",
    "        \n",
    "        #cv讀照片，顏色莫認為BGR，需轉為RGB，錯誤表示黑白或已轉\n",
    "        image = cv2.resize(image, IMAGE_SIZE)\n",
    "        # Append the image and its corresponding label to the output\n",
    "        images.append(image)\n",
    "    \n",
    "    images = np.array(images, dtype = 'float32')\n",
    "    \n",
    "    return images"
   ]
  },
  {
   "cell_type": "code",
   "execution_count": 4,
   "metadata": {},
   "outputs": [],
   "source": [
    "def load_test_data():\n",
    "    images = []\n",
    "    for i in range(1,10001):\n",
    "        # Open and resize the img\n",
    "        image = cv2.imread('C:/Users/User/Desktop/test_data01/'+str(i)+'.jpg')\n",
    "        \n",
    "        #cv讀照片，顏色莫認為BGR，需轉為RGB，錯誤表示黑白或已轉\n",
    "        image = cv2.resize(image, IMAGE_SIZE)\n",
    "        # Append the image and its corresponding label to the output\n",
    "        images.append(image)\n",
    "\n",
    "    images = np.array(images, dtype = 'float32')\n",
    "    \n",
    "    return images"
   ]
  },
  {
   "cell_type": "code",
   "execution_count": 5,
   "metadata": {},
   "outputs": [],
   "source": [
    "x_train = load_train_data()/ 255.0"
   ]
  },
  {
   "cell_type": "code",
   "execution_count": 6,
   "metadata": {},
   "outputs": [],
   "source": [
    "x_test = load_test_data()/ 255.0"
   ]
  },
  {
   "cell_type": "code",
   "execution_count": 7,
   "metadata": {},
   "outputs": [],
   "source": [
    "from keras.models import Model\n",
    "from keras.layers import Input\n",
    "from keras.layers import Dense\n",
    "from keras.layers.core import Dense, Activation\n",
    "from keras.layers import Conv2D, MaxPooling2D, Flatten\n",
    "from keras.optimizers import  Adam"
   ]
  },
  {
   "cell_type": "code",
   "execution_count": 43,
   "metadata": {},
   "outputs": [],
   "source": [
    "inputs = Input(shape=(100,100,3))"
   ]
  },
  {
   "cell_type": "code",
   "execution_count": 121,
   "metadata": {},
   "outputs": [],
   "source": [
    "#circle_train\n",
    "x=Conv2D(32, (3, 3), activation='relu',padding='same')(inputs)\n",
    "x=MaxPooling2D((2, 2))(x)\n",
    "x=Conv2D(64, (3, 3), activation='relu',padding='same')(x)\n",
    "x=MaxPooling2D((2, 2))(x)\n",
    "x=Conv2D(128, (3, 3), activation='relu',padding='same')(x)\n",
    "x=MaxPooling2D((2, 2))(x)\n",
    "x=Conv2D(128, (3, 3), activation='relu',padding='same')(x)\n",
    "x=MaxPooling2D((2, 2))(x)\n",
    "x=Flatten()(x)\n",
    "x=Dense(512, activation='relu')(x)\n",
    "\n",
    "circle_output=Dense(6, activation='softmax', name=\"circle\")(x)"
   ]
  },
  {
   "cell_type": "code",
   "execution_count": 122,
   "metadata": {},
   "outputs": [],
   "source": [
    "#square_train\n",
    "x=Conv2D(32, (3, 3), activation='relu',padding='same')(inputs)\n",
    "x=MaxPooling2D((2, 2))(x)\n",
    "x=Conv2D(64, (3, 3), activation='relu',padding='same')(x)\n",
    "x=MaxPooling2D((2, 2))(x)\n",
    "x=Conv2D(128, (3, 3), activation='relu',padding='same')(x)\n",
    "x=MaxPooling2D((2, 2))(x)\n",
    "x=Conv2D(128, (3, 3), activation='relu',padding='same')(x)\n",
    "x=MaxPooling2D((2, 2))(x)\n",
    "x=Flatten()(x)\n",
    "x=Dense(512, activation='relu')(x)\n",
    "\n",
    "square_output=Dense(6, activation='softmax', name=\"square\")(x)"
   ]
  },
  {
   "cell_type": "code",
   "execution_count": 123,
   "metadata": {},
   "outputs": [],
   "source": [
    "#triangle_train\n",
    "x=Conv2D(32, (3, 3), activation='relu',padding='same')(inputs)\n",
    "x=MaxPooling2D((2, 2))(x)\n",
    "x=Conv2D(64, (3, 3), activation='relu',padding='same')(x)\n",
    "x=MaxPooling2D((2, 2))(x)\n",
    "x=Conv2D(128, (3, 3), activation='relu',padding='same')(x)\n",
    "x=MaxPooling2D((2, 2))(x)\n",
    "x=Conv2D(128, (3, 3), activation='relu',padding='same')(x)\n",
    "x=MaxPooling2D((2, 2))(x)\n",
    "x=Flatten()(x)\n",
    "x=Dense(512, activation='relu')(x)\n",
    "\n",
    "triangle_output=Dense(6, activation='softmax', name=\"triangle\")(x)"
   ]
  },
  {
   "cell_type": "code",
   "execution_count": 124,
   "metadata": {},
   "outputs": [],
   "source": [
    "model = Model(inputs=inputs,outputs=[circle_output,square_output,triangle_output])"
   ]
  },
  {
   "cell_type": "code",
   "execution_count": 125,
   "metadata": {},
   "outputs": [
    {
     "name": "stdout",
     "output_type": "stream",
     "text": [
      "Epoch 1/20\n",
      "500/500 [==============================] - 75s 147ms/step - loss: 4.2081 - circle_loss: 1.4750 - square_loss: 1.3029 - triangle_loss: 1.4302 - circle_accuracy: 0.3206 - square_accuracy: 0.3999 - triangle_accuracy: 0.3384\n",
      "Epoch 2/20\n",
      "500/500 [==============================] - 75s 151ms/step - loss: 1.3594 - circle_loss: 0.4295 - square_loss: 0.4004 - triangle_loss: 0.5294 - circle_accuracy: 0.8292 - square_accuracy: 0.8367 - triangle_accuracy: 0.7782\n",
      "Epoch 3/20\n",
      "500/500 [==============================] - 75s 150ms/step - loss: 0.7944 - circle_loss: 0.2360 - square_loss: 0.2171 - triangle_loss: 0.3413 - circle_accuracy: 0.9108 - square_accuracy: 0.9198 - triangle_accuracy: 0.8694\n",
      "Epoch 4/20\n",
      "500/500 [==============================] - 75s 150ms/step - loss: 0.5462 - circle_loss: 0.1414 - square_loss: 0.1596 - triangle_loss: 0.2452 - circle_accuracy: 0.9492 - square_accuracy: 0.9438 - triangle_accuracy: 0.9083\n",
      "Epoch 5/20\n",
      "500/500 [==============================] - 75s 150ms/step - loss: 0.4115 - circle_loss: 0.1006 - square_loss: 0.1221 - triangle_loss: 0.1888 - circle_accuracy: 0.9665 - square_accuracy: 0.9566 - triangle_accuracy: 0.9309\n",
      "Epoch 6/20\n",
      "500/500 [==============================] - 76s 151ms/step - loss: 0.3142 - circle_loss: 0.0788 - square_loss: 0.0924 - triangle_loss: 0.1430 - circle_accuracy: 0.9720 - square_accuracy: 0.9683 - triangle_accuracy: 0.9516\n",
      "Epoch 7/20\n",
      "500/500 [==============================] - 75s 150ms/step - loss: 0.2517 - circle_loss: 0.0658 - square_loss: 0.0846 - triangle_loss: 0.1013 - circle_accuracy: 0.9772 - square_accuracy: 0.9714 - triangle_accuracy: 0.9662\n",
      "Epoch 8/20\n",
      "500/500 [==============================] - 75s 150ms/step - loss: 0.4989 - circle_loss: 0.0458 - square_loss: 0.3525 - triangle_loss: 0.1006 - circle_accuracy: 0.9850 - square_accuracy: 0.8600 - triangle_accuracy: 0.9653\n",
      "Epoch 9/20\n",
      "500/500 [==============================] - 75s 150ms/step - loss: 0.2032 - circle_loss: 0.0320 - square_loss: 0.0870 - triangle_loss: 0.0843 - circle_accuracy: 0.9901 - square_accuracy: 0.9706 - triangle_accuracy: 0.9711\n",
      "Epoch 10/20\n",
      "500/500 [==============================] - 75s 150ms/step - loss: 0.1732 - circle_loss: 0.0347 - square_loss: 0.0669 - triangle_loss: 0.0716 - circle_accuracy: 0.9883 - square_accuracy: 0.9766 - triangle_accuracy: 0.9755\n",
      "Epoch 11/20\n",
      "500/500 [==============================] - 75s 151ms/step - loss: 0.1714 - circle_loss: 0.0448 - square_loss: 0.0562 - triangle_loss: 0.0704 - circle_accuracy: 0.9850 - square_accuracy: 0.9804 - triangle_accuracy: 0.9757\n",
      "Epoch 12/20\n",
      "500/500 [==============================] - 75s 151ms/step - loss: 0.1639 - circle_loss: 0.0279 - square_loss: 0.0574 - triangle_loss: 0.0787 - circle_accuracy: 0.9907 - square_accuracy: 0.9810 - triangle_accuracy: 0.9730\n",
      "Epoch 13/20\n",
      "500/500 [==============================] - 75s 150ms/step - loss: 0.1451 - circle_loss: 0.0437 - square_loss: 0.0417 - triangle_loss: 0.0597 - circle_accuracy: 0.9855 - square_accuracy: 0.9862 - triangle_accuracy: 0.9796\n",
      "Epoch 14/20\n",
      "500/500 [==============================] - 75s 150ms/step - loss: 0.0937 - circle_loss: 0.0234 - square_loss: 0.0294 - triangle_loss: 0.0408 - circle_accuracy: 0.9922 - square_accuracy: 0.9903 - triangle_accuracy: 0.9862\n",
      "Epoch 15/20\n",
      "500/500 [==============================] - 75s 150ms/step - loss: 0.2505 - circle_loss: 0.1422 - square_loss: 0.0547 - triangle_loss: 0.0536 - circle_accuracy: 0.9653 - square_accuracy: 0.9808 - triangle_accuracy: 0.9821\n",
      "Epoch 16/20\n",
      "500/500 [==============================] - 75s 149ms/step - loss: 0.2285 - circle_loss: 0.1266 - square_loss: 0.0426 - triangle_loss: 0.0593 - circle_accuracy: 0.9557 - square_accuracy: 0.9869 - triangle_accuracy: 0.9795\n",
      "Epoch 17/20\n",
      "500/500 [==============================] - 75s 149ms/step - loss: 0.2089 - circle_loss: 0.0577 - square_loss: 0.0277 - triangle_loss: 0.1236 - circle_accuracy: 0.9805 - square_accuracy: 0.9909 - triangle_accuracy: 0.9614\n",
      "Epoch 18/20\n",
      "500/500 [==============================] - 75s 151ms/step - loss: 0.0836 - circle_loss: 0.0384 - square_loss: 0.0135 - triangle_loss: 0.0318 - circle_accuracy: 0.9870 - square_accuracy: 0.9962 - triangle_accuracy: 0.9893\n",
      "Epoch 19/20\n",
      "500/500 [==============================] - 75s 149ms/step - loss: 0.1660 - circle_loss: 0.0376 - square_loss: 0.0978 - triangle_loss: 0.0305 - circle_accuracy: 0.9868 - square_accuracy: 0.9655 - triangle_accuracy: 0.9888\n",
      "Epoch 20/20\n",
      "500/500 [==============================] - 75s 150ms/step - loss: 0.0633 - circle_loss: 0.0328 - square_loss: 0.0066 - triangle_loss: 0.0239 - circle_accuracy: 0.9893 - square_accuracy: 0.9985 - triangle_accuracy: 0.9919\n"
     ]
    },
    {
     "data": {
      "text/plain": [
       "<tensorflow.python.keras.callbacks.History at 0x18b54887748>"
      ]
     },
     "execution_count": 125,
     "metadata": {},
     "output_type": "execute_result"
    }
   ],
   "source": [
    "model.compile(optimizer='adam',\n",
    "              loss='sparse_categorical_crossentropy',\n",
    "              metrics=['accuracy'])\n",
    "\n",
    "model.fit(x_train, [circle_train,square_train,triangle_train], epochs=20, batch_size=100)"
   ]
  },
  {
   "cell_type": "code",
   "execution_count": 80,
   "metadata": {},
   "outputs": [],
   "source": [
    "model.save('1092_PDL_Group26.h5')"
   ]
  },
  {
   "cell_type": "code",
   "execution_count": 126,
   "metadata": {},
   "outputs": [],
   "source": [
    "prediction=model.predict(x_test)"
   ]
  },
  {
   "cell_type": "code",
   "execution_count": 127,
   "metadata": {},
   "outputs": [],
   "source": [
    "prediction_circle = prediction[0]\n",
    "prediction_square = prediction[1]\n",
    "prediction_triangle = prediction[2]\n",
    "\n",
    "labels_circle = np.argmax(prediction_circle,axis=1)\n",
    "labels_square = np.argmax(prediction_square,axis=1)\n",
    "labels_triangle = np.argmax(prediction_triangle,axis=1)"
   ]
  },
  {
   "cell_type": "code",
   "execution_count": 128,
   "metadata": {},
   "outputs": [],
   "source": [
    "ID = []\n",
    "for i in range (1,10001):\n",
    "    ID.append(i)"
   ]
  },
  {
   "cell_type": "code",
   "execution_count": 129,
   "metadata": {},
   "outputs": [],
   "source": [
    "import pandas as pd"
   ]
  },
  {
   "cell_type": "code",
   "execution_count": 130,
   "metadata": {},
   "outputs": [
    {
     "data": {
      "text/html": [
       "<div>\n",
       "<style scoped>\n",
       "    .dataframe tbody tr th:only-of-type {\n",
       "        vertical-align: middle;\n",
       "    }\n",
       "\n",
       "    .dataframe tbody tr th {\n",
       "        vertical-align: top;\n",
       "    }\n",
       "\n",
       "    .dataframe thead th {\n",
       "        text-align: right;\n",
       "    }\n",
       "</style>\n",
       "<table border=\"1\" class=\"dataframe\">\n",
       "  <thead>\n",
       "    <tr style=\"text-align: right;\">\n",
       "      <th></th>\n",
       "      <th>id</th>\n",
       "      <th>circle</th>\n",
       "      <th>square</th>\n",
       "      <th>triangle</th>\n",
       "    </tr>\n",
       "  </thead>\n",
       "  <tbody>\n",
       "    <tr>\n",
       "      <th>0</th>\n",
       "      <td>1</td>\n",
       "      <td>1</td>\n",
       "      <td>2</td>\n",
       "      <td>3</td>\n",
       "    </tr>\n",
       "    <tr>\n",
       "      <th>1</th>\n",
       "      <td>2</td>\n",
       "      <td>1</td>\n",
       "      <td>3</td>\n",
       "      <td>1</td>\n",
       "    </tr>\n",
       "    <tr>\n",
       "      <th>2</th>\n",
       "      <td>3</td>\n",
       "      <td>1</td>\n",
       "      <td>2</td>\n",
       "      <td>3</td>\n",
       "    </tr>\n",
       "    <tr>\n",
       "      <th>3</th>\n",
       "      <td>4</td>\n",
       "      <td>2</td>\n",
       "      <td>2</td>\n",
       "      <td>3</td>\n",
       "    </tr>\n",
       "    <tr>\n",
       "      <th>4</th>\n",
       "      <td>5</td>\n",
       "      <td>1</td>\n",
       "      <td>2</td>\n",
       "      <td>1</td>\n",
       "    </tr>\n",
       "    <tr>\n",
       "      <th>...</th>\n",
       "      <td>...</td>\n",
       "      <td>...</td>\n",
       "      <td>...</td>\n",
       "      <td>...</td>\n",
       "    </tr>\n",
       "    <tr>\n",
       "      <th>9995</th>\n",
       "      <td>9996</td>\n",
       "      <td>5</td>\n",
       "      <td>2</td>\n",
       "      <td>4</td>\n",
       "    </tr>\n",
       "    <tr>\n",
       "      <th>9996</th>\n",
       "      <td>9997</td>\n",
       "      <td>2</td>\n",
       "      <td>3</td>\n",
       "      <td>5</td>\n",
       "    </tr>\n",
       "    <tr>\n",
       "      <th>9997</th>\n",
       "      <td>9998</td>\n",
       "      <td>1</td>\n",
       "      <td>1</td>\n",
       "      <td>3</td>\n",
       "    </tr>\n",
       "    <tr>\n",
       "      <th>9998</th>\n",
       "      <td>9999</td>\n",
       "      <td>5</td>\n",
       "      <td>2</td>\n",
       "      <td>5</td>\n",
       "    </tr>\n",
       "    <tr>\n",
       "      <th>9999</th>\n",
       "      <td>10000</td>\n",
       "      <td>5</td>\n",
       "      <td>2</td>\n",
       "      <td>2</td>\n",
       "    </tr>\n",
       "  </tbody>\n",
       "</table>\n",
       "<p>10000 rows × 4 columns</p>\n",
       "</div>"
      ],
      "text/plain": [
       "         id  circle  square  triangle\n",
       "0         1       1       2         3\n",
       "1         2       1       3         1\n",
       "2         3       1       2         3\n",
       "3         4       2       2         3\n",
       "4         5       1       2         1\n",
       "...     ...     ...     ...       ...\n",
       "9995   9996       5       2         4\n",
       "9996   9997       2       3         5\n",
       "9997   9998       1       1         3\n",
       "9998   9999       5       2         5\n",
       "9999  10000       5       2         2\n",
       "\n",
       "[10000 rows x 4 columns]"
      ]
     },
     "execution_count": 130,
     "metadata": {},
     "output_type": "execute_result"
    }
   ],
   "source": [
    "df = pd.DataFrame()\n",
    "df['id'] = ID\n",
    "df['circle'] = labels_circle\n",
    "df['square'] = labels_square\n",
    "df['triangle'] = labels_triangle\n",
    "\n",
    "df.to_csv('test_data01.csv',index=False)\n",
    "\n",
    "df"
   ]
  }
 ],
 "metadata": {
  "kernelspec": {
   "display_name": "Python 3",
   "language": "python",
   "name": "python3"
  },
  "language_info": {
   "codemirror_mode": {
    "name": "ipython",
    "version": 3
   },
   "file_extension": ".py",
   "mimetype": "text/x-python",
   "name": "python",
   "nbconvert_exporter": "python",
   "pygments_lexer": "ipython3",
   "version": "3.7.6"
  }
 },
 "nbformat": 4,
 "nbformat_minor": 4
}
